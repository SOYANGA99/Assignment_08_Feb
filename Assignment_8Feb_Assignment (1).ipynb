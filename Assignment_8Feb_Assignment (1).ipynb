{
 "cells": [
  {
   "cell_type": "markdown",
   "id": "534a8a1c-f0cd-409d-8863-bd23b70cfca8",
   "metadata": {},
   "source": [
    "Que-1 : What is Abstraction in Oops? Explain with an Example.\n",
    "\n",
    "Ans:- \n",
    "\n",
    "    (i) The main purpose of abstraction is hiding the unnecessary details from           the users.\n",
    "    \n",
    "    (ii) Abstraction is selecting data from a larger pool to show only relevant          details of the object to the user.  \n",
    "    \n",
    "    (iii) It helps in reducing programming complexity and efforts.\n",
    "     \n",
    "Example:-\n",
    "      Suppose you have subscribed to Netflix. So, as a user, all you have to do is sign-up and start interacting with the user interface of the platform. You can select the movie that you want to watch. However, we are not aware of what goes on in the backend – information such as how many movies are stored in their database, or how the data is being used to recommend movies to you. These details are not relevant to the users in general and so are hidden from them.\n",
    "\n",
    "An Example using code:- "
   ]
  },
  {
   "cell_type": "code",
   "execution_count": 2,
   "id": "4aa55e3c-44c1-4e88-a787-34d19b6851e1",
   "metadata": {},
   "outputs": [
    {
     "name": "stdout",
     "output_type": "stream",
     "text": [
      "The mileage is 30kmph\n",
      "The mileage is 27kmph \n",
      "The mileage is 25kmph \n",
      "The mileage is 24kmph \n"
     ]
    }
   ],
   "source": [
    "from abc import ABC, abstractmethod\n",
    "class Car(ABC):   \n",
    "    def mileage(self):   \n",
    "        pass  \n",
    "  \n",
    "class Tesla(Car):   \n",
    "    def mileage(self):   \n",
    "        print(\"The mileage is 30kmph\")   \n",
    "class Suzuki(Car):   \n",
    "    def mileage(self):   \n",
    "        print(\"The mileage is 25kmph \")   \n",
    "class Duster(Car):   \n",
    "     def mileage(self):   \n",
    "          print(\"The mileage is 24kmph \")   \n",
    "  \n",
    "class Renault(Car):   \n",
    "    def mileage(self):   \n",
    "            print(\"The mileage is 27kmph \")   \n",
    "          \n",
    "# Driver code   \n",
    "t= Tesla ()   \n",
    "t.mileage()   \n",
    "  \n",
    "r = Renault()   \n",
    "r.mileage()   \n",
    "  \n",
    "s = Suzuki()   \n",
    "s.mileage()   \n",
    "d = Duster()   \n",
    "d.mileage()  "
   ]
  },
  {
   "cell_type": "markdown",
   "id": "6436945f-ba16-4cfa-8993-deb1c099d246",
   "metadata": {},
   "source": [
    "Que-2 : Differentiate between Abstraction and Encapsulation. Explain with an example.\n",
    "\n",
    "Ans:- \n",
    "\n",
    "# :-Encapsulation:-\n",
    "\n",
    "1. Abstraction solves the problem in the design level.\n",
    "2. Abstraction is used for hiding the inwanted data and giving relevant data.\n",
    "3. Abstraction lets you focus on what the object does instead of how it does it.\n",
    "4. Abstraction:- Outer layout, used in terms of gesign.\n",
    "\n",
    "Example:- \n",
    "       Outer look of a Mobile phone, like it has a display screen and keypad buttons to dial a number.\n",
    "       \n",
    "# :-Encapsulation:-\n",
    "\n",
    "1. Encapsulation solves the problem in the implementation level.\n",
    "2.Encapsulation means hiding the code and data into a single unit to protect the data from outside world.\n",
    "3. Encapsulation means hiding the internal details or mechanics of how an object does something.\n",
    "4. Encapsulation:- Inner layout, used in terms of implementation.\n",
    "\n",
    "Example:- \n",
    "       Inner implementaion detail of a mobile phone, how keypad button and display screen are connect with each other using circuits."
   ]
  },
  {
   "cell_type": "markdown",
   "id": "a2766e55-8a49-4996-a83b-6a86a625ab4a",
   "metadata": {},
   "source": [
    "Que-3 : What is abc module in python? Why is it used?\n",
    "\n",
    "Ans:- \n",
    "      An Abstract class is one of important concept in object oriented programming(oops).\n",
    "     It is like blueprint for other classes.\n",
    "     The ‘abc’ module in the Python library provides the infrastructure for defining custom abstract base\n",
    "         classes.\n",
    "     Abstract class cannot be instantiated in python. An Abstract method can be call by its subclasses."
   ]
  },
  {
   "cell_type": "markdown",
   "id": "f23ce8a5-994e-4008-a127-d89f40b19a39",
   "metadata": {},
   "source": [
    "Que-4 : How can we achieve data abstraction?\n",
    "\n",
    "Ans :- Data Abstraction in Python can be achieved through creating abstract classes and inheriting them later."
   ]
  },
  {
   "cell_type": "markdown",
   "id": "cdef4fda-d0e8-494e-9f12-6b1993ee2b38",
   "metadata": {},
   "source": [
    "Que-5 : Can we create an instance of an abstract class? Explain your answer.\n",
    "\n",
    "Ans:- \n",
    "      No, we cannot create an instance of an abstract class.\n",
    "    An abstract class is a class that is meant to be subclassed and cannot be       instantiated directly.\n",
    "    Because it does not have a complete implementation. The purpose of an           abstract class is to function as a base for subclasses. It acts like a           template, or an empty or partially empty structure, you should extend it         and build on it before you can use it.\n",
    "    \n",
    "    "
   ]
  },
  {
   "cell_type": "code",
   "execution_count": null,
   "id": "2c41e194-3e1f-40ae-b79c-2e9c0f055274",
   "metadata": {},
   "outputs": [],
   "source": []
  }
 ],
 "metadata": {
  "kernelspec": {
   "display_name": "Python 3 (ipykernel)",
   "language": "python",
   "name": "python3"
  },
  "language_info": {
   "codemirror_mode": {
    "name": "ipython",
    "version": 3
   },
   "file_extension": ".py",
   "mimetype": "text/x-python",
   "name": "python",
   "nbconvert_exporter": "python",
   "pygments_lexer": "ipython3",
   "version": "3.10.6"
  }
 },
 "nbformat": 4,
 "nbformat_minor": 5
}
